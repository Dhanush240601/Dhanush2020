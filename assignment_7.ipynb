{
  "nbformat": 4,
  "nbformat_minor": 0,
  "metadata": {
    "colab": {
      "name": "assignment_7.ipynb",
      "provenance": [],
      "authorship_tag": "ABX9TyPH6dlWM2FE0cpvrIej3W4p",
      "include_colab_link": true
    },
    "kernelspec": {
      "name": "python3",
      "display_name": "Python 3"
    }
  },
  "cells": [
    {
      "cell_type": "markdown",
      "metadata": {
        "id": "view-in-github",
        "colab_type": "text"
      },
      "source": [
        "<a href=\"https://colab.research.google.com/github/Dhanush240601/Dhanush2020/blob/master/assignment_7.ipynb\" target=\"_parent\"><img src=\"https://colab.research.google.com/assets/colab-badge.svg\" alt=\"Open In Colab\"/></a>"
      ]
    },
    {
      "cell_type": "code",
      "metadata": {
        "id": "WDjshbotEnV5",
        "colab_type": "code",
        "colab": {
          "base_uri": "https://localhost:8080/",
          "height": 34
        },
        "outputId": "54a73c68-7e32-477c-ed58-47a0e813feac"
      },
      "source": [
        "# max of three numbers\n",
        "def maximum(a, b, c): \n",
        "    list = [a, b, c] \n",
        "    return max(list) \n",
        "a = 10\n",
        "b = 14\n",
        "c = 12\n",
        "print(maximum(a, b, c)) "
      ],
      "execution_count": 1,
      "outputs": [
        {
          "output_type": "stream",
          "text": [
            "14\n"
          ],
          "name": "stdout"
        }
      ]
    },
    {
      "cell_type": "code",
      "metadata": {
        "id": "0cLrG7YvEo2-",
        "colab_type": "code",
        "colab": {
          "base_uri": "https://localhost:8080/",
          "height": 34
        },
        "outputId": "003b95e1-fac1-4e4e-f011-e07f023fa8cf"
      },
      "source": [
        "#check the number in the range\n",
        "def test_range(n):\n",
        "    if n in range(3,9):\n",
        "        print( \" %s is in the range\"%str(n))\n",
        "    else :\n",
        "        print(\"The number is outside the given range.\")\n",
        "test_range(5)"
      ],
      "execution_count": 2,
      "outputs": [
        {
          "output_type": "stream",
          "text": [
            " 5 is in the range\n"
          ],
          "name": "stdout"
        }
      ]
    },
    {
      "cell_type": "code",
      "metadata": {
        "id": "__LtOxInEpMZ",
        "colab_type": "code",
        "colab": {
          "base_uri": "https://localhost:8080/",
          "height": 51
        },
        "outputId": "ae563b52-b137-4a39-f0c9-33bed12100e7"
      },
      "source": [
        "#factorial of a number\n",
        "num=int(input(\"enter the number\"))\n",
        "factorial = 1  \n",
        "if num < 0:  \n",
        "   print(\"Sorry, factorial does not exist for negative numbers\")  \n",
        "elif num == 0:  \n",
        "   print(\"The factorial of 0 is 1\")  \n",
        "else:  \n",
        "   for i in range(1,num + 1):  \n",
        "       factorial = factorial*i  \n",
        "   print(\"The factorial of\",num,\"is\",factorial)  "
      ],
      "execution_count": 4,
      "outputs": [
        {
          "output_type": "stream",
          "text": [
            "enter the number7\n",
            "The factorial of 7 is 5040\n"
          ],
          "name": "stdout"
        }
      ]
    }
  ]
}