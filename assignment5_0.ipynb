{
  "nbformat": 4,
  "nbformat_minor": 0,
  "metadata": {
    "colab": {
      "name": "assignment5.0.ipynb",
      "provenance": [],
      "authorship_tag": "ABX9TyPTsQUxlj5o7xmnycnIDqwK",
      "include_colab_link": true
    },
    "kernelspec": {
      "name": "python3",
      "display_name": "Python 3"
    }
  },
  "cells": [
    {
      "cell_type": "markdown",
      "metadata": {
        "id": "view-in-github",
        "colab_type": "text"
      },
      "source": [
        "<a href=\"https://colab.research.google.com/github/Dhanush240601/Dhanush2020/blob/master/assignment5_0.ipynb\" target=\"_parent\"><img src=\"https://colab.research.google.com/assets/colab-badge.svg\" alt=\"Open In Colab\"/></a>"
      ]
    },
    {
      "cell_type": "code",
      "metadata": {
        "id": "CHgGYV9bBg0_",
        "colab_type": "code",
        "colab": {
          "base_uri": "https://localhost:8080/",
          "height": 51
        },
        "outputId": "d241f294-4a3c-442f-9016-2c26602648a7"
      },
      "source": [
        "#area of circle\n",
        "import math\n",
        "\n",
        "r = float(input('Enter the radius of the circle :'))\n",
        "area = math.pi * r * r\n",
        "\n",
        "print(\"Area of the circle is : %.2f\" %area)"
      ],
      "execution_count": 1,
      "outputs": [
        {
          "output_type": "stream",
          "text": [
            "Enter the radius of the circle :3.5\n",
            "Area of the circle is : 38.48\n"
          ],
          "name": "stdout"
        }
      ]
    },
    {
      "cell_type": "code",
      "metadata": {
        "id": "x4ahXNlkBsIw",
        "colab_type": "code",
        "colab": {
          "base_uri": "https://localhost:8080/",
          "height": 68
        },
        "outputId": "4de4c2f3-14ac-4e00-d34f-a4367e793a99"
      },
      "source": [
        "#area of polygon\n",
        "from math import tan, pi\n",
        "n_sides = int(input(\"Input number of sides: \"))\n",
        "s_length = float(input(\"Input the length of a side: \"))\n",
        "p_area = n_sides * (s_length ** 2) / (4 * tan(pi / n_sides))\n",
        "print(\"The area of the polygon is: \",p_area)"
      ],
      "execution_count": 2,
      "outputs": [
        {
          "output_type": "stream",
          "text": [
            "Input number of sides: 3\n",
            "Input the length of a side: 12\n",
            "The area of the polygon is:  62.353829072479606\n"
          ],
          "name": "stdout"
        }
      ]
    },
    {
      "cell_type": "code",
      "metadata": {
        "id": "lGVxbp7xB7IS",
        "colab_type": "code",
        "colab": {
          "base_uri": "https://localhost:8080/",
          "height": 170
        },
        "outputId": "ef4d2ccc-8529-4669-fae3-8328df38135b"
      },
      "source": [
        "#random numbers from1 -1000\n",
        "import random\n",
        "n = random.randint(1,1000)\n",
        "print(n)\n",
        "\n",
        "while(n<1000):\n",
        "    n=n+50\n",
        "    print(n)"
      ],
      "execution_count": 3,
      "outputs": [
        {
          "output_type": "stream",
          "text": [
            "614\n",
            "664\n",
            "714\n",
            "764\n",
            "814\n",
            "864\n",
            "914\n",
            "964\n",
            "1014\n"
          ],
          "name": "stdout"
        }
      ]
    },
    {
      "cell_type": "code",
      "metadata": {
        "id": "3RuvZWibCMAE",
        "colab_type": "code",
        "colab": {
          "base_uri": "https://localhost:8080/",
          "height": 34
        },
        "outputId": "2cc3073f-3844-4a83-8f84-cce2cc106af8"
      },
      "source": [
        "import math\n",
        "sine=math.sin(60)\n",
        "print(sine)"
      ],
      "execution_count": 8,
      "outputs": [
        {
          "output_type": "stream",
          "text": [
            "-0.3048106211022167\n"
          ],
          "name": "stdout"
        }
      ]
    },
    {
      "cell_type": "code",
      "metadata": {
        "id": "Wwls0pYUCTf5",
        "colab_type": "code",
        "colab": {
          "base_uri": "https://localhost:8080/",
          "height": 34
        },
        "outputId": "93bfa4b4-3133-4fc8-ca94-f18ad4a7c4c5"
      },
      "source": [
        "import math\n",
        "co=math.cos(pi)\n",
        "print(co)"
      ],
      "execution_count": 9,
      "outputs": [
        {
          "output_type": "stream",
          "text": [
            "-1.0\n"
          ],
          "name": "stdout"
        }
      ]
    },
    {
      "cell_type": "code",
      "metadata": {
        "id": "Ciy1NmoECboY",
        "colab_type": "code",
        "colab": {
          "base_uri": "https://localhost:8080/",
          "height": 34
        },
        "outputId": "df9b1c89-0c21-4818-c3f3-63ebf47363b9"
      },
      "source": [
        "import math\n",
        "ta=math.tan(90)\n",
        "print(ta)"
      ],
      "execution_count": 7,
      "outputs": [
        {
          "output_type": "stream",
          "text": [
            "-1.995200412208242\n"
          ],
          "name": "stdout"
        }
      ]
    },
    {
      "cell_type": "code",
      "metadata": {
        "id": "6C0gtYgFCdRb",
        "colab_type": "code",
        "colab": {
          "base_uri": "https://localhost:8080/",
          "height": 34
        },
        "outputId": "5b966bda-e472-4c09-9e5a-717a9a3ec50f"
      },
      "source": [
        "print(5^8)"
      ],
      "execution_count": 6,
      "outputs": [
        {
          "output_type": "stream",
          "text": [
            "13\n"
          ],
          "name": "stdout"
        }
      ]
    },
    {
      "cell_type": "code",
      "metadata": {
        "id": "G3DAYvipCg2z",
        "colab_type": "code",
        "colab": {
          "base_uri": "https://localhost:8080/",
          "height": 34
        },
        "outputId": "6a3d5523-682c-4811-f33e-2f6429a9b9f6"
      },
      "source": [
        "print(400**0.5)"
      ],
      "execution_count": 5,
      "outputs": [
        {
          "output_type": "stream",
          "text": [
            "20.0\n"
          ],
          "name": "stdout"
        }
      ]
    },
    {
      "cell_type": "code",
      "metadata": {
        "id": "7dhgVk-6Cr8h",
        "colab_type": "code",
        "colab": {
          "base_uri": "https://localhost:8080/",
          "height": 51
        },
        "outputId": "75d81b76-db6c-4d29-922c-def062a04de9"
      },
      "source": [
        "import math\n",
        "print(math.floor(23.56))\n",
        "print(math.ceil(23.56))"
      ],
      "execution_count": 4,
      "outputs": [
        {
          "output_type": "stream",
          "text": [
            "23\n",
            "24\n"
          ],
          "name": "stdout"
        }
      ]
    }
  ]
}