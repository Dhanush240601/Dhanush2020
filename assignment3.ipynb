{
  "nbformat": 4,
  "nbformat_minor": 0,
  "metadata": {
    "colab": {
      "name": "assignment3.ipynb",
      "provenance": [],
      "authorship_tag": "ABX9TyPuXajqbOaN3VmW2U57rgQU",
      "include_colab_link": true
    },
    "kernelspec": {
      "name": "python3",
      "display_name": "Python 3"
    }
  },
  "cells": [
    {
      "cell_type": "markdown",
      "metadata": {
        "id": "view-in-github",
        "colab_type": "text"
      },
      "source": [
        "<a href=\"https://colab.research.google.com/github/Dhanush240601/Dhanush2020/blob/master/assignment3.ipynb\" target=\"_parent\"><img src=\"https://colab.research.google.com/assets/colab-badge.svg\" alt=\"Open In Colab\"/></a>"
      ]
    },
    {
      "cell_type": "code",
      "metadata": {
        "id": "PPyOkUiFxzek",
        "colab_type": "code",
        "colab": {
          "base_uri": "https://localhost:8080/",
          "height": 51
        },
        "outputId": "c39e38e0-42f5-48c8-d6a6-408c9414acef"
      },
      "source": [
        "#eligibilty to vote\n",
        "age = int(input(\"Enter Age : \"))\n",
        "if age>=18:\n",
        "        status=\"Eligible\"\n",
        "else:\n",
        "    status=\"Not Eligible\"\n",
        "\n",
        "print(\"You are \",status,\" for Vote.\")"
      ],
      "execution_count": 1,
      "outputs": [
        {
          "output_type": "stream",
          "text": [
            "Enter Age : 19\n",
            "You are  Eligible  for Vote.\n"
          ],
          "name": "stdout"
        }
      ]
    },
    {
      "cell_type": "code",
      "metadata": {
        "id": "pGGzfKq1yZDn",
        "colab_type": "code",
        "colab": {
          "base_uri": "https://localhost:8080/",
          "height": 51
        },
        "outputId": "7dfed3f6-6513-410d-a20d-f32375048e3a"
      },
      "source": [
        "#odd or even\n",
        "num = int(input(\"Enter a number: \"))  \n",
        "if (num % 2) == 0:  \n",
        "   print(\"{0} is Even number\".format(num))  \n",
        "else:  \n",
        "   print(\"{0} is Odd number\".format(num))  "
      ],
      "execution_count": 2,
      "outputs": [
        {
          "output_type": "stream",
          "text": [
            "Enter a number: 3\n",
            "3 is Odd number\n"
          ],
          "name": "stdout"
        }
      ]
    },
    {
      "cell_type": "code",
      "metadata": {
        "id": "JV4-nxJkyY6N",
        "colab_type": "code",
        "colab": {
          "base_uri": "https://localhost:8080/",
          "height": 68
        },
        "outputId": "bdd8abd8-e555-44fb-d87e-d2513f56cb1b"
      },
      "source": [
        "#prime or not\n",
        "num = int(input(\"Enter a number: \"))\n",
        "if num > 1:\n",
        "   for i in range(2,num):\n",
        "       if (num % i) == 0:\n",
        "           print(num,\"is not a prime number\")\n",
        "           print(i,\"times\",num//i,\"is\",num)\n",
        "           break\n",
        "   else:\n",
        "       print(num,\"is a prime number\")\n",
        "else:\n",
        "   print(num,\"is not a prime number\")\n",
        "   "
      ],
      "execution_count": 3,
      "outputs": [
        {
          "output_type": "stream",
          "text": [
            "Enter a number: 145\n",
            "145 is not a prime number\n",
            "5 times 29 is 145\n"
          ],
          "name": "stdout"
        }
      ]
    },
    {
      "cell_type": "code",
      "metadata": {
        "id": "DNgnwlsbzykS",
        "colab_type": "code",
        "colab": {
          "base_uri": "https://localhost:8080/",
          "height": 51
        },
        "outputId": "02a2879b-5084-4c60-fff7-e041fa3f84ff"
      },
      "source": [
        "#positive or not\n",
        "num = float(input(\"Enter a number: \"))\n",
        "if num > 0:\n",
        "   print(\"Positive number\")\n",
        "elif num == 0:\n",
        "   print(\"Zero\")\n",
        "else:\n",
        "   print(\"Negative number\")"
      ],
      "execution_count": 4,
      "outputs": [
        {
          "output_type": "stream",
          "text": [
            "Enter a number: 20\n",
            "Positive number\n"
          ],
          "name": "stdout"
        }
      ]
    },
    {
      "cell_type": "code",
      "metadata": {
        "id": "rzaRH3Yj0Den",
        "colab_type": "code",
        "colab": {
          "base_uri": "https://localhost:8080/",
          "height": 85
        },
        "outputId": "57d16b12-880c-452a-fd81-14df1db24b9f"
      },
      "source": [
        "#quadratic equations\n",
        "import math\n",
        "\n",
        "a = int(input(\"Please Enter a Value of a Quadratic Equation : \"))\n",
        "b = int(input(\"Please Enter b Value of a Quadratic Equation : \"))\n",
        "c = int(input(\"Please Enter c Value of a Quadratic Equation : \"))\n",
        "\n",
        "discriminant = (b * b) - (4 * a * c)\n",
        "\n",
        "if(discriminant > 0):\n",
        "    root1 = (-b + math.sqrt(discriminant) / (2 * a))\n",
        "    root2 = (-b - math.sqrt(discriminant) / (2 * a))\n",
        "    print(\"Two Distinct Real Roots Exists: root1 = %.2f and root2 = %.2f\" %(root1, root2))\n",
        "elif(discriminant == 0):\n",
        "    root1 = root2 = -b / (2 * a)\n",
        "    print(\"Two Equal and Real Roots Exists: root1 = %.2f and root2 = %.2f\" %(root1, root2))\n",
        "elif(discriminant < 0):\n",
        "    root1 = root2 = -b / (2 * a)\n",
        "    imaginary = math.sqrt(-discriminant) / (2 * a)\n",
        "    print(\"Two Distinct Complex Roots Exists: root1 = %.2f+%.2f and root2 = %.2f-%.2f\" %(root1, imaginary, root2, imaginary))"
      ],
      "execution_count": 5,
      "outputs": [
        {
          "output_type": "stream",
          "text": [
            "Please Enter a Value of a Quadratic Equation : 10\n",
            "Please Enter b Value of a Quadratic Equation : 5\n",
            "Please Enter c Value of a Quadratic Equation : 8\n",
            "Two Distinct Complex Roots Exists: root1 = -0.25+0.86 and root2 = -0.25-0.86\n"
          ],
          "name": "stdout"
        }
      ]
    },
    {
      "cell_type": "code",
      "metadata": {
        "id": "Vh7ZUoA01aG1",
        "colab_type": "code",
        "colab": {
          "base_uri": "https://localhost:8080/",
          "height": 51
        },
        "outputId": "c064e2cb-33ab-4a2f-c2be-048e1a1aee12"
      },
      "source": [
        "#positive ,negative or zero using nested if\n",
        "num = float(input(\"Enter a number: \"))\n",
        "if num > 0:\n",
        "   print(\"Positive number\")\n",
        "elif num == 0:\n",
        "   print(\"Zero\")\n",
        "else:\n",
        "   print(\"Negative number\")"
      ],
      "execution_count": 6,
      "outputs": [
        {
          "output_type": "stream",
          "text": [
            "Enter a number: 0\n",
            "Zero\n"
          ],
          "name": "stdout"
        }
      ]
    },
    {
      "cell_type": "code",
      "metadata": {
        "id": "55XD58Ep18JI",
        "colab_type": "code",
        "colab": {
          "base_uri": "https://localhost:8080/",
          "height": 34
        },
        "outputId": "c81ce44a-94bc-4d36-a1ff-841c557301a4"
      },
      "source": [
        "#number to words\n",
        "def printValue(digit): \n",
        "  \n",
        "    # Switch block to check for each digit c \n",
        "  \n",
        "    # For digit 0 \n",
        "    if digit == '0': \n",
        "        print(\"Zero \", end = \" \") \n",
        "  \n",
        "    # For digit 1 \n",
        "    elif digit == '1': \n",
        "        print(\"One \", end = \" \") \n",
        "  \n",
        "    # For digit 2 \n",
        "    elif digit == '2': \n",
        "        print(\"Two \", end = \" \") \n",
        "  \n",
        "    #For digit 3 \n",
        "    elif digit=='3': \n",
        "        print(\"Three\",end=\" \") \n",
        "  \n",
        "    # For digit 4 \n",
        "    elif digit == '4': \n",
        "        print(\"Four \", end = \" \") \n",
        "  \n",
        "    # For digit 5 \n",
        "    elif digit == '5': \n",
        "        print(\"Five \", end = \" \") \n",
        "  \n",
        "    # For digit 6 \n",
        "    elif digit == '6': \n",
        "        print(\"Six \", end = \" \") \n",
        "  \n",
        "    # For digit 7 \n",
        "    elif digit == '7': \n",
        "        print(\"Seven\", end = \" \") \n",
        "  \n",
        "    # For digit 8 \n",
        "    elif digit == '8': \n",
        "        print(\"Eight\", end = \" \") \n",
        "  \n",
        "    # For digit 9 \n",
        "    elif digit == '9': \n",
        "        print(\"Nine \", end = \" \") \n",
        "def printWord(N): \n",
        "    i = 0\n",
        "    length = len(N) \n",
        "    while i < length: \n",
        "        printValue(N[i]) \n",
        "        i=i+1\n",
        "N = \"123\"\n",
        "printWord(N) "
      ],
      "execution_count": 7,
      "outputs": [
        {
          "output_type": "stream",
          "text": [
            "One  Two  Three "
          ],
          "name": "stdout"
        }
      ]
    },
    {
      "cell_type": "code",
      "metadata": {
        "id": "QfX-Dwuy3YaX",
        "colab_type": "code",
        "colab": {
          "base_uri": "https://localhost:8080/",
          "height": 51
        },
        "outputId": "ba3d55be-37aa-4949-af63-0dc115e4d971"
      },
      "source": [
        "#vowel or constant\n",
        "ch = input(\"Enter a character: \")\n",
        "\n",
        "if(ch=='A' or ch=='a' or ch=='E' or ch =='e' or ch=='I'\n",
        " or ch=='i' or ch=='O' or ch=='o' or ch=='U' or ch=='u'):\n",
        "    print(ch, \"is a Vowel\")\n",
        "else:\n",
        "    print(ch, \"is a Consonant\")"
      ],
      "execution_count": 8,
      "outputs": [
        {
          "output_type": "stream",
          "text": [
            "Enter a character: a\n",
            "a is a Vowel\n"
          ],
          "name": "stdout"
        }
      ]
    }
  ]
}