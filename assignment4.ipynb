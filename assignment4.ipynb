{
  "nbformat": 4,
  "nbformat_minor": 0,
  "metadata": {
    "colab": {
      "name": "assignment4.ipynb",
      "provenance": [],
      "authorship_tag": "ABX9TyPBfZz+wb60XK3UVTq0gCnc",
      "include_colab_link": true
    },
    "kernelspec": {
      "name": "python3",
      "display_name": "Python 3"
    }
  },
  "cells": [
    {
      "cell_type": "markdown",
      "metadata": {
        "id": "view-in-github",
        "colab_type": "text"
      },
      "source": [
        "<a href=\"https://colab.research.google.com/github/Dhanush240601/Dhanush2020/blob/master/assignment4.ipynb\" target=\"_parent\"><img src=\"https://colab.research.google.com/assets/colab-badge.svg\" alt=\"Open In Colab\"/></a>"
      ]
    },
    {
      "cell_type": "code",
      "metadata": {
        "id": "r0mOCVSc5fWl",
        "colab_type": "code",
        "colab": {
          "base_uri": "https://localhost:8080/",
          "height": 34
        },
        "outputId": "cbfb35ce-c059-443a-9705-fd00c6243a07"
      },
      "source": [
        "# Sum of natural numbers up to num\n",
        "\n",
        "num = 16\n",
        "\n",
        "if num < 0:\n",
        "   print(\"Enter a positive number\")\n",
        "else:\n",
        "   sum = 0\n",
        "   while(num > 0):\n",
        "       sum += num\n",
        "       num -= 1\n",
        "   print(\"The sum is\", sum)"
      ],
      "execution_count": 1,
      "outputs": [
        {
          "output_type": "stream",
          "text": [
            "The sum is 136\n"
          ],
          "name": "stdout"
        }
      ]
    },
    {
      "cell_type": "code",
      "metadata": {
        "id": "ibZX8v0s5uqj",
        "colab_type": "code",
        "colab": {
          "base_uri": "https://localhost:8080/",
          "height": 51
        },
        "outputId": "9a4dcd50-ccd4-4f8e-ac41-8158bb648b02"
      },
      "source": [
        "#odd or even from the series\n",
        "numbers = (1, 2, 3, 4, 5, 6, 7, 8, 9) \n",
        "count_odd = 0\n",
        "count_even = 0\n",
        "for x in numbers:\n",
        "        if not x % 2:\n",
        "    \t     count_even+=1\n",
        "        else:\n",
        "    \t     count_odd+=1\n",
        "print(\"Number of even numbers :\",count_even)\n",
        "print(\"Number of odd numbers :\",count_odd)"
      ],
      "execution_count": 2,
      "outputs": [
        {
          "output_type": "stream",
          "text": [
            "Number of even numbers : 4\n",
            "Number of odd numbers : 5\n"
          ],
          "name": "stdout"
        }
      ]
    },
    {
      "cell_type": "code",
      "metadata": {
        "id": "4tHZ6eMU6pwJ",
        "colab_type": "code",
        "colab": {
          "base_uri": "https://localhost:8080/",
          "height": 51
        },
        "outputId": "2e63d913-dfc3-4173-f398-50b5d9cd46b4"
      },
      "source": [
        "#print 0-6 except 3 and 6\n",
        "for x in range(6):\n",
        "    if (x == 3 or x==6):\n",
        "        continue\n",
        "    print(x,end=' ')\n",
        "print(\"\\n\")"
      ],
      "execution_count": 3,
      "outputs": [
        {
          "output_type": "stream",
          "text": [
            "0 1 2 4 5 \n",
            "\n"
          ],
          "name": "stdout"
        }
      ]
    },
    {
      "cell_type": "code",
      "metadata": {
        "id": "wwVA7MW27LAE",
        "colab_type": "code",
        "colab": {
          "base_uri": "https://localhost:8080/",
          "height": 34
        },
        "outputId": "fc5bb34e-284d-47d9-b45c-f209db5dfd0d"
      },
      "source": [
        "#print the square of all numbers\n",
        "def printValues():\n",
        "\tl = list()\n",
        "\tfor i in range(1,11):\n",
        "\t\tl.append(i**2)\n",
        "\tprint(l)\n",
        "\t\t\n",
        "printValues()"
      ],
      "execution_count": 5,
      "outputs": [
        {
          "output_type": "stream",
          "text": [
            "[1, 4, 9, 16, 25, 36, 49, 64, 81, 100]\n"
          ],
          "name": "stdout"
        }
      ]
    },
    {
      "cell_type": "code",
      "metadata": {
        "id": "cYA2VkPP8Qag",
        "colab_type": "code",
        "colab": {
          "base_uri": "https://localhost:8080/",
          "height": 170
        },
        "outputId": "fc59be79-645f-4c2d-caf3-46237aa58fa4"
      },
      "source": [
        "# find the sum and average of n intergers \n",
        "print(\"Input some integers to calculate their sum and average. Input 0 to exit.\")\n",
        "\n",
        "count = 0\n",
        "sum = 0.0\n",
        "number = 1\n",
        "\n",
        "while number != 0:\n",
        "\tnumber = int(input(\"\"))\n",
        "\tsum = sum + number\n",
        "\tcount += 1\n",
        "\n",
        "if count == 0:\n",
        "\tprint(\"Input some numbers\")\n",
        "else:\n",
        "\tprint(\"Average and Sum of the above numbers are: \", sum / (count-1), sum)\n",
        "\t"
      ],
      "execution_count": 6,
      "outputs": [
        {
          "output_type": "stream",
          "text": [
            "Input some integers to calculate their sum and average. Input 0 to exit.\n",
            "10\n",
            "30\n",
            "46\n",
            "7\n",
            "38\n",
            "34\n",
            "0\n",
            "Average and Sum of the above numbers are:  27.5 165.0\n"
          ],
          "name": "stdout"
        }
      ]
    },
    {
      "cell_type": "code",
      "metadata": {
        "id": "VGNjYO1v8qkm",
        "colab_type": "code",
        "colab": {
          "base_uri": "https://localhost:8080/",
          "height": 51
        },
        "outputId": "0fa1b787-9a33-448a-fb79-eab00c3dd36a"
      },
      "source": [
        "#reverse a number\n",
        "n=int(input(\"Enter number: \"))\n",
        "rev=0\n",
        "while(n>0):\n",
        "    dig=n%10\n",
        "    rev=rev*10+dig\n",
        "    n=n//10\n",
        "print(\"Reverse of the number:\",rev)"
      ],
      "execution_count": 8,
      "outputs": [
        {
          "output_type": "stream",
          "text": [
            "Enter number: 123\n",
            "Reverse of the number: 321\n"
          ],
          "name": "stdout"
        }
      ]
    },
    {
      "cell_type": "code",
      "metadata": {
        "id": "TnGxAJbI9I63",
        "colab_type": "code",
        "colab": {
          "base_uri": "https://localhost:8080/",
          "height": 34
        },
        "outputId": "5dd48455-65c8-49e6-ee30-c8599d231cba"
      },
      "source": [
        "#finding odd numbers in the given range\n",
        "  \n",
        "start, end =1,20\n",
        "for num in range(start, end + 1): \n",
        "    if num % 2 != 0: \n",
        "        print(num, end = \" \")"
      ],
      "execution_count": 10,
      "outputs": [
        {
          "output_type": "stream",
          "text": [
            "1 3 5 7 9 11 13 15 17 19 "
          ],
          "name": "stdout"
        }
      ]
    },
    {
      "cell_type": "code",
      "metadata": {
        "id": "Jn70S-8591V3",
        "colab_type": "code",
        "colab": {
          "base_uri": "https://localhost:8080/",
          "height": 51
        },
        "outputId": "12d69561-252d-41d2-de2b-5936a959c5ba"
      },
      "source": [
        "#count the number of digits\n",
        "n=int(input(\"Enter number:\"))\n",
        "count=0\n",
        "while(n>0):\n",
        "    count=count+1\n",
        "    n=n//10\n",
        "print(\"The number of digits in the number are:\",count)"
      ],
      "execution_count": 13,
      "outputs": [
        {
          "output_type": "stream",
          "text": [
            "Enter number:26\n",
            "The number of digits in the number are: 2\n"
          ],
          "name": "stdout"
        }
      ]
    },
    {
      "cell_type": "code",
      "metadata": {
        "id": "QruVOgVy-gaC",
        "colab_type": "code",
        "colab": {
          "base_uri": "https://localhost:8080/",
          "height": 51
        },
        "outputId": "3381167d-6948-4848-a1a6-00090c957328"
      },
      "source": [
        "#palindrome or not\n",
        "n=int(input(\"Enter number:\"))\n",
        "temp=n\n",
        "rev=0\n",
        "while(n>0):\n",
        "    dig=n%10\n",
        "    rev=rev*10+dig\n",
        "    n=n//10\n",
        "if(temp==rev):\n",
        "    print(\"The number is a palindrome!\")\n",
        "else:\n",
        "    print(\"The number isn't a palindrome!\")"
      ],
      "execution_count": 14,
      "outputs": [
        {
          "output_type": "stream",
          "text": [
            "Enter number:121\n",
            "The number is a palindrome!\n"
          ],
          "name": "stdout"
        }
      ]
    },
    {
      "cell_type": "code",
      "metadata": {
        "id": "SABwyTpO_Jky",
        "colab_type": "code",
        "colab": {
          "base_uri": "https://localhost:8080/",
          "height": 102
        },
        "outputId": "67f7c9db-384f-4b8d-95c4-89a726108c10"
      },
      "source": [
        "#print identity matrix\n",
        "n=int(input(\"Enter a number: \"))\n",
        "for i in range(0,n):\n",
        "    for j in range(0,n):\n",
        "        if(i==j):\n",
        "            print(\"1\",sep=\" \",end=\" \")\n",
        "        else:\n",
        "            print(\"0\",sep=\" \",end=\" \")\n",
        "    print()"
      ],
      "execution_count": 15,
      "outputs": [
        {
          "output_type": "stream",
          "text": [
            "Enter a number: 4\n",
            "1 0 0 0 \n",
            "0 1 0 0 \n",
            "0 0 1 0 \n",
            "0 0 0 1 \n"
          ],
          "name": "stdout"
        }
      ]
    },
    {
      "cell_type": "code",
      "metadata": {
        "id": "1YuL7i5n_lL4",
        "colab_type": "code",
        "colab": {
          "base_uri": "https://localhost:8080/",
          "height": 51
        },
        "outputId": "fb384d9d-247d-4bb4-a1b9-6e1164c7160c"
      },
      "source": [
        "#check number is perfect or not\n",
        "n = int(input(\"Enter any number: \"))\n",
        "sum1 = 0\n",
        "for i in range(1, n):\n",
        "    if(n % i == 0):\n",
        "        sum1 = sum1 + i\n",
        "if (sum1 == n):\n",
        "    print(\"The number is a Perfect number!\")\n",
        "else:\n",
        "    print(\"The number is not a Perfect number!\")"
      ],
      "execution_count": 16,
      "outputs": [
        {
          "output_type": "stream",
          "text": [
            "Enter any number: 6\n",
            "The number is a Perfect number!\n"
          ],
          "name": "stdout"
        }
      ]
    }
  ]
}