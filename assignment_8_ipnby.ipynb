{
  "nbformat": 4,
  "nbformat_minor": 0,
  "metadata": {
    "colab": {
      "name": "assignment_8.ipnby",
      "provenance": [],
      "authorship_tag": "ABX9TyO5BRjPjZA9fN4zMa3l5zuz",
      "include_colab_link": true
    },
    "kernelspec": {
      "name": "python3",
      "display_name": "Python 3"
    }
  },
  "cells": [
    {
      "cell_type": "markdown",
      "metadata": {
        "id": "view-in-github",
        "colab_type": "text"
      },
      "source": [
        "<a href=\"https://colab.research.google.com/github/Dhanush240601/Dhanush2020/blob/master/assignment_8_ipnby.ipynb\" target=\"_parent\"><img src=\"https://colab.research.google.com/assets/colab-badge.svg\" alt=\"Open In Colab\"/></a>"
      ]
    },
    {
      "cell_type": "code",
      "metadata": {
        "id": "JdG-6vHKYyWw",
        "colab_type": "code",
        "colab": {
          "base_uri": "https://localhost:8080/",
          "height": 34
        },
        "outputId": "5786bd3d-5b2a-4ac4-b71f-eea95f8d150a"
      },
      "source": [
        "#Write a Python program to calculate the length of a string.\n",
        "def string_length(str1):\n",
        "    count = 0\n",
        "    for char in str1:\n",
        "        count += 1\n",
        "    return count\n",
        "print(string_length('Dhanush roy'))"
      ],
      "execution_count": null,
      "outputs": [
        {
          "output_type": "stream",
          "text": [
            "11\n"
          ],
          "name": "stdout"
        }
      ]
    },
    {
      "cell_type": "code",
      "metadata": {
        "id": "8T5GZbbLZtjM",
        "colab_type": "code",
        "colab": {
          "base_uri": "https://localhost:8080/",
          "height": 34
        },
        "outputId": "a5d074f5-d47b-4fc2-bf62-1c9f6d56c3c8"
      },
      "source": [
        "#Write a Python program to count the number of characters (character frequency) in a string.\n",
        "def char_frequency(str1):\n",
        "    dict = {}\n",
        "    for n in str1:\n",
        "        keys = dict.keys()\n",
        "        if n in keys:\n",
        "            dict[n] += 1\n",
        "        else:\n",
        "            dict[n] = 1\n",
        "    return dict\n",
        "print(char_frequency('google.com'))"
      ],
      "execution_count": null,
      "outputs": [
        {
          "output_type": "stream",
          "text": [
            "{'g': 2, 'o': 3, 'l': 1, 'e': 1, '.': 1, 'c': 1, 'm': 1}\n"
          ],
          "name": "stdout"
        }
      ]
    },
    {
      "cell_type": "code",
      "metadata": {
        "id": "ygt1wqdnaNH2",
        "colab_type": "code",
        "colab": {
          "base_uri": "https://localhost:8080/",
          "height": 231
        },
        "outputId": "9789b198-a178-4c64-a8c0-72828f28d3ae"
      },
      "source": [
        "#Python program to count no:of times letter “o” appears in string=”hello world”\n",
        "count = 0\n",
        "  \n",
        "for i in test_str: \n",
        "    if i == 'e': \n",
        "        count = count + 1\n",
        "  \n",
        "# printing result  \n",
        "print (\"Count of e in GeeksforGeeks is : \"\n",
        "                            +  str(count)) \n"
      ],
      "execution_count": null,
      "outputs": [
        {
          "output_type": "error",
          "ename": "NameError",
          "evalue": "ignored",
          "traceback": [
            "\u001b[0;31m---------------------------------------------------------------------------\u001b[0m",
            "\u001b[0;31mNameError\u001b[0m                                 Traceback (most recent call last)",
            "\u001b[0;32m<ipython-input-5-0e9e1a84e7bf>\u001b[0m in \u001b[0;36m<module>\u001b[0;34m()\u001b[0m\n\u001b[1;32m      2\u001b[0m \u001b[0mcount\u001b[0m \u001b[0;34m=\u001b[0m \u001b[0;36m0\u001b[0m\u001b[0;34m\u001b[0m\u001b[0;34m\u001b[0m\u001b[0m\n\u001b[1;32m      3\u001b[0m \u001b[0;34m\u001b[0m\u001b[0m\n\u001b[0;32m----> 4\u001b[0;31m \u001b[0;32mfor\u001b[0m \u001b[0mi\u001b[0m \u001b[0;32min\u001b[0m \u001b[0mtest_str\u001b[0m\u001b[0;34m:\u001b[0m\u001b[0;34m\u001b[0m\u001b[0;34m\u001b[0m\u001b[0m\n\u001b[0m\u001b[1;32m      5\u001b[0m     \u001b[0;32mif\u001b[0m \u001b[0mi\u001b[0m \u001b[0;34m==\u001b[0m \u001b[0;34m'e'\u001b[0m\u001b[0;34m:\u001b[0m\u001b[0;34m\u001b[0m\u001b[0;34m\u001b[0m\u001b[0m\n\u001b[1;32m      6\u001b[0m         \u001b[0mcount\u001b[0m \u001b[0;34m=\u001b[0m \u001b[0mcount\u001b[0m \u001b[0;34m+\u001b[0m \u001b[0;36m1\u001b[0m\u001b[0;34m\u001b[0m\u001b[0;34m\u001b[0m\u001b[0m\n",
            "\u001b[0;31mNameError\u001b[0m: name 'test_str' is not defined"
          ]
        }
      ]
    },
    {
      "cell_type": "code",
      "metadata": {
        "id": "18TfZXNgbj_n",
        "colab_type": "code",
        "colab": {
          "base_uri": "https://localhost:8080/",
          "height": 68
        },
        "outputId": "7694078f-5fb4-40f9-82a8-cec6b44292ce"
      },
      "source": [
        "#script that takes input from the user and displays that input back in upper and lower cases\n",
        "user_input = input(\"What's your favourite language? \")\n",
        "print(\"My favourite language is \", user_input.upper())\n",
        "print(\"My favourite language is \", user_input.lower())"
      ],
      "execution_count": null,
      "outputs": [
        {
          "output_type": "stream",
          "text": [
            "What's your favourite language? english\n",
            "My favourite language is  ENGLISH\n",
            "My favourite language is  english\n"
          ],
          "name": "stdout"
        }
      ]
    },
    {
      "cell_type": "code",
      "metadata": {
        "id": "SjKDZF6vcqC0",
        "colab_type": "code",
        "colab": {
          "base_uri": "https://localhost:8080/",
          "height": 68
        },
        "outputId": "b93424e8-a11d-4dc1-e693-0e93063f365a"
      },
      "source": [
        "#Python program to count occurrences of a substring in a string.\n",
        "str1 = 'The quick brown fox jumps over the lazy dog.'\n",
        "print()\n",
        "print(str1.count(\"fox\"))\n",
        "print()"
      ],
      "execution_count": null,
      "outputs": [
        {
          "output_type": "stream",
          "text": [
            "\n",
            "1\n",
            "\n"
          ],
          "name": "stdout"
        }
      ]
    },
    {
      "cell_type": "code",
      "metadata": {
        "id": "f_yoaCX_dBu8",
        "colab_type": "code",
        "colab": {
          "base_uri": "https://localhost:8080/",
          "height": 119
        },
        "outputId": "14549a6b-0dbd-4f7d-b2ed-89d363275516"
      },
      "source": [
        "#Python program to compare two strings\n",
        "print(\"Enter 'x' for exit.\")\n",
        "string1 = input(\"Enter first string: \")\n",
        "if string1 == 'x':\n",
        "    exit();\n",
        "else:\n",
        "    string2 = input(\"Enter second string: \")\n",
        "    if string1 == string2:\n",
        "        print(\"\\nBoth strings are equal to each other.\")\n",
        "        print(string1,\"==\",string2);\n",
        "    else:\n",
        "        print(\"\\nStrings are not equal.\")\n",
        "        print(string1,\"!=\",string2);"
      ],
      "execution_count": null,
      "outputs": [
        {
          "output_type": "stream",
          "text": [
            "Enter 'x' for exit.\n",
            "Enter first string: hi\n",
            "Enter second string: hi\n",
            "\n",
            "Both strings are equal to each other.\n",
            "hi == hi\n"
          ],
          "name": "stdout"
        }
      ]
    },
    {
      "cell_type": "code",
      "metadata": {
        "id": "GJqSpmNqeQwl",
        "colab_type": "code",
        "colab": {
          "base_uri": "https://localhost:8080/",
          "height": 51
        },
        "outputId": "e5712f07-a74a-41d9-a823-3ace85d0d2ef"
      },
      "source": [
        "#Python program to perform Deletion of a character \n",
        "s = input(\"enter the string:\")\n",
        "print(s.replace('a', ''))"
      ],
      "execution_count": 9,
      "outputs": [
        {
          "output_type": "stream",
          "text": [
            "enter the string:bangalore\n",
            "bnglore\n"
          ],
          "name": "stdout"
        }
      ]
    },
    {
      "cell_type": "code",
      "metadata": {
        "id": "mreqZ0gde2FO",
        "colab_type": "code",
        "colab": {
          "base_uri": "https://localhost:8080/",
          "height": 153
        },
        "outputId": "44f71548-e991-4764-8675-078e2cb70222"
      },
      "source": [
        "#program to print every character of a string entered by user in a new line using loop. \n",
        "a = input(\"enter a string\")\n",
        "for i in a:\n",
        "  print (i)"
      ],
      "execution_count": 10,
      "outputs": [
        {
          "output_type": "stream",
          "text": [
            "enter a stringDhanush\n",
            "D\n",
            "h\n",
            "a\n",
            "n\n",
            "u\n",
            "s\n",
            "h\n"
          ],
          "name": "stdout"
        }
      ]
    },
    {
      "cell_type": "code",
      "metadata": {
        "id": "Ms7mA0EEfB_H",
        "colab_type": "code",
        "colab": {
          "base_uri": "https://localhost:8080/",
          "height": 34
        },
        "outputId": "f458edc5-5ea6-4cbb-fab2-3864b3120f44"
      },
      "source": [
        "#program to find the length of the string \"refrigerator\" without using len function. \n",
        "a = \"refrigerator\"\n",
        "count = 0\n",
        "for i in a:\n",
        "  count = count+1\n",
        "print (count)"
      ],
      "execution_count": 11,
      "outputs": [
        {
          "output_type": "stream",
          "text": [
            "12\n"
          ],
          "name": "stdout"
        }
      ]
    },
    {
      "cell_type": "code",
      "metadata": {
        "id": "EKi5HKnVfQME",
        "colab_type": "code",
        "colab": {
          "base_uri": "https://localhost:8080/",
          "height": 68
        },
        "outputId": "e18bbe33-c3a6-49fd-d663-ec0232cdea67"
      },
      "source": [
        "#program to Check if a Substring is Present in a Given String\n",
        "string=input(\"Enter string:\")\n",
        "sub_str=input(\"Enter word:\")\n",
        "if(string.find(sub_str)==-1):\n",
        "      print(\"Substring not found in string!\")\n",
        "else:\n",
        "      print(\"Substring in string!\")"
      ],
      "execution_count": 13,
      "outputs": [
        {
          "output_type": "stream",
          "text": [
            "Enter string:python programming is easy to learn\n",
            "Enter word:easy\n",
            "Substring in string!\n"
          ],
          "name": "stdout"
        }
      ]
    }
  ]
}