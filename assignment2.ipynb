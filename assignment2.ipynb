{
  "nbformat": 4,
  "nbformat_minor": 0,
  "metadata": {
    "colab": {
      "name": "assignment2.ipynb",
      "provenance": [],
      "authorship_tag": "ABX9TyOWKo9w6M9xOP9arl1pinb6",
      "include_colab_link": true
    },
    "kernelspec": {
      "name": "python3",
      "display_name": "Python 3"
    }
  },
  "cells": [
    {
      "cell_type": "markdown",
      "metadata": {
        "id": "view-in-github",
        "colab_type": "text"
      },
      "source": [
        "<a href=\"https://colab.research.google.com/github/Dhanush240601/Dhanush2020/blob/master/assignment2.ipynb\" target=\"_parent\"><img src=\"https://colab.research.google.com/assets/colab-badge.svg\" alt=\"Open In Colab\"/></a>"
      ]
    },
    {
      "cell_type": "code",
      "metadata": {
        "id": "Qa2NxpU-mAOL",
        "colab_type": "code",
        "colab": {
          "base_uri": "https://localhost:8080/",
          "height": 68
        },
        "outputId": "f12373ab-42f1-447b-d392-1d665bf5a7db"
      },
      "source": [
        "a = int(input(\"enter first number: \"))\n",
        "b = int(input(\"enter second number: \"))\n",
        " \n",
        "sum = a + b\n",
        " \n",
        "print(\"sum:\", sum)"
      ],
      "execution_count": null,
      "outputs": [
        {
          "output_type": "stream",
          "text": [
            "enter first number: 10\n",
            "enter second number: 20\n",
            "sum: 30\n"
          ],
          "name": "stdout"
        }
      ]
    },
    {
      "cell_type": "code",
      "metadata": {
        "id": "qK4Joa2YmLR5",
        "colab_type": "code",
        "colab": {
          "base_uri": "https://localhost:8080/",
          "height": 51
        },
        "outputId": "98f49131-418c-48b0-f84a-57292b1f9ebd"
      },
      "source": [
        " #Write a program that uses input to prompt a user for their name and then welcomes them.\n",
        "name = input('Enter your name:')\n",
        "print ('Hello', name)"
      ],
      "execution_count": null,
      "outputs": [
        {
          "output_type": "stream",
          "text": [
            "Enter your name:dhanush\n",
            "Hello dhanush\n"
          ],
          "name": "stdout"
        }
      ]
    },
    {
      "cell_type": "code",
      "metadata": {
        "id": "Znnr43RnnQ5k",
        "colab_type": "code",
        "colab": {
          "base_uri": "https://localhost:8080/",
          "height": 68
        },
        "outputId": "880725cf-50d1-40cd-aaa3-7fa55898ae3d"
      },
      "source": [
        "# Write a program to prompt the user for hours and rate per hour to compute gross pay.\n",
        "hours = int(input('Enter Hours:'))\n",
        "rate = float(input('Enter Rate:'))\n",
        "pay = hours * rate\n",
        "print ('Pay =', pay)"
      ],
      "execution_count": null,
      "outputs": [
        {
          "output_type": "stream",
          "text": [
            "Enter Hours:35\n",
            "Enter Rate:2.75\n",
            "Pay = 96.25\n"
          ],
          "name": "stdout"
        }
      ]
    },
    {
      "cell_type": "code",
      "metadata": {
        "id": "JNtoPkrrn0f2",
        "colab_type": "code",
        "colab": {
          "base_uri": "https://localhost:8080/",
          "height": 85
        },
        "outputId": "e1c69454-ccbd-4ae4-cb55-1a599d6ff149"
      },
      "source": [
        "width=17\n",
        "height=12.0\n",
        "print(width//2)\n",
        "print(width//2.0)\n",
        "print(height/3)\n",
        "print(1+2*5)"
      ],
      "execution_count": null,
      "outputs": [
        {
          "output_type": "stream",
          "text": [
            "8\n",
            "8.0\n",
            "4.0\n",
            "11\n"
          ],
          "name": "stdout"
        }
      ]
    },
    {
      "cell_type": "code",
      "metadata": {
        "id": "Ea6tPPvKol_5",
        "colab_type": "code",
        "colab": {
          "base_uri": "https://localhost:8080/",
          "height": 34
        },
        "outputId": "f7905cd2-315d-43a5-bf95-4df3073d53d8"
      },
      "source": [
        " #Write a program which prompts the user for a Celsius temperature, #converts the temperature to Fahrenheit, and prints out the converted temperature.\n",
        "celsius = 37.5\n",
        "fahrenheit = (celsius * 1.8) + 32\n",
        "print('%0.1f degree Celsius is equal to %0.1f degree Fahrenheit' %(celsius,fahrenheit))"
      ],
      "execution_count": 11,
      "outputs": [
        {
          "output_type": "stream",
          "text": [
            "37.5 degree Celsius is equal to 99.5 degree Fahrenheit\n"
          ],
          "name": "stdout"
        }
      ]
    }
  ]
}