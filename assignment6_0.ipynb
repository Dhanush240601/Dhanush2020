{
  "nbformat": 4,
  "nbformat_minor": 0,
  "metadata": {
    "colab": {
      "name": "assignment6_0.ipynb",
      "provenance": [],
      "authorship_tag": "ABX9TyMDizcCjlkX9Q6/5wzsPNuB",
      "include_colab_link": true
    },
    "kernelspec": {
      "name": "python3",
      "display_name": "Python 3"
    }
  },
  "cells": [
    {
      "cell_type": "markdown",
      "metadata": {
        "id": "view-in-github",
        "colab_type": "text"
      },
      "source": [
        "<a href=\"https://colab.research.google.com/github/Dhanush240601/Dhanush2020/blob/master/assignment6_0.ipynb\" target=\"_parent\"><img src=\"https://colab.research.google.com/assets/colab-badge.svg\" alt=\"Open In Colab\"/></a>"
      ]
    },
    {
      "cell_type": "code",
      "metadata": {
        "id": "S3_sedm3DjaW",
        "colab_type": "code",
        "colab": {
          "base_uri": "https://localhost:8080/",
          "height": 51
        },
        "outputId": "c1484ea3-8b64-4211-fe58-376a0f6ca226"
      },
      "source": [
        "# converting from binary to decimal\n",
        "b_num = list(input(\"Input a binary number: \"))\n",
        "value = 0\n",
        "\n",
        "for i in range(len(b_num)):\n",
        "\tdigit = b_num.pop()\n",
        "\tif digit == '1':\n",
        "\t\tvalue = value + pow(2, i)\n",
        "print(\"The decimal value of the number is\", value)"
      ],
      "execution_count": 1,
      "outputs": [
        {
          "output_type": "stream",
          "text": [
            "Input a binary number: 10001010\n",
            "The decimal value of the number is 138\n"
          ],
          "name": "stdout"
        }
      ]
    },
    {
      "cell_type": "code",
      "metadata": {
        "id": "7zFxp6jcD1go",
        "colab_type": "code",
        "colab": {
          "base_uri": "https://localhost:8080/",
          "height": 51
        },
        "outputId": "aa157761-61be-4501-d02b-4d3c4a63e1ac"
      },
      "source": [
        "# fibbonaci sereies using while loop\n",
        "n = int(input(\"Enter the value of 'n': \"))\n",
        "a = 0\n",
        "b = 1\n",
        "sum = 0\n",
        "count = 1\n",
        "print(\"Fibonacci Series: \", end = \" \")\n",
        "while(count <= n):\n",
        "  print(sum, end = \" \")\n",
        "  count += 1\n",
        "  a = b\n",
        "  b = sum\n",
        "  sum = a + b"
      ],
      "execution_count": 2,
      "outputs": [
        {
          "output_type": "stream",
          "text": [
            "Enter the value of 'n': 7\n",
            "Fibonacci Series:  0 1 1 2 3 5 8 "
          ],
          "name": "stdout"
        }
      ]
    },
    {
      "cell_type": "code",
      "metadata": {
        "id": "a6gZZestD_3X",
        "colab_type": "code",
        "colab": {
          "base_uri": "https://localhost:8080/",
          "height": 204
        },
        "outputId": "d34197c2-138f-453f-ac21-b1d1e02b3a12"
      },
      "source": [
        "# To display the multiplication table\n",
        "num = int(input(\"Display multiplication table of? \"))\n",
        "for i in range(1, 11):\n",
        "   print(num, 'x', i, '=', num*i)"
      ],
      "execution_count": 3,
      "outputs": [
        {
          "output_type": "stream",
          "text": [
            "Display multiplication table of? 7\n",
            "7 x 1 = 7\n",
            "7 x 2 = 14\n",
            "7 x 3 = 21\n",
            "7 x 4 = 28\n",
            "7 x 5 = 35\n",
            "7 x 6 = 42\n",
            "7 x 7 = 49\n",
            "7 x 8 = 56\n",
            "7 x 9 = 63\n",
            "7 x 10 = 70\n"
          ],
          "name": "stdout"
        }
      ]
    },
    {
      "cell_type": "code",
      "metadata": {
        "id": "34vg6FV6EI7Y",
        "colab_type": "code",
        "colab": {
          "base_uri": "https://localhost:8080/",
          "height": 34
        },
        "outputId": "a9f4b95a-7443-43a3-90e0-8603574a423d"
      },
      "source": [
        "# finding gcd of two numbers\n",
        "def gcd(a,b): \n",
        "    if (a == 0): \n",
        "        return b \n",
        "    if (b == 0): \n",
        "        return a \n",
        "    if (a == b): \n",
        "        return b \n",
        "    if (a > b): \n",
        "        return gcd(a-b, b) \n",
        "    return gcd(a, b-a)\n",
        "a = 98\n",
        "b = 56\n",
        "if(gcd(a, b)): \n",
        "    print('GCD of', a, 'and', b, 'is', gcd(a, b)) \n",
        "else: \n",
        "    print('not found') "
      ],
      "execution_count": 4,
      "outputs": [
        {
          "output_type": "stream",
          "text": [
            "GCD of 98 and 56 is 14\n"
          ],
          "name": "stdout"
        }
      ]
    }
  ]
}